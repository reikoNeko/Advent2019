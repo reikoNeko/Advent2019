{
 "cells": [
  {
   "cell_type": "markdown",
   "metadata": {},
   "source": [
    "--- Day 4: Secure Container ---\n",
    "\n",
    "You arrive at the Venus fuel depot only to discover it's protected by a password. The Elves had written the password on a sticky note, but someone threw it out.\n",
    "\n",
    "However, they do remember a few key facts about the password:\n",
    "\n",
    "    It is a six-digit number.\n",
    "    The value is within the range given in your puzzle input.\n",
    "    Two adjacent digits are the same (like 22 in 122345).\n",
    "    Going from left to right, the digits never decrease; they only ever increase or stay the same (like 111123 or 135679).\n",
    "\n",
    "Other than the range rule, the following are true:\n",
    "\n",
    "    111111 meets these criteria (double 11, never decreases).\n",
    "    223450 does not meet these criteria (decreasing pair of digits 50).\n",
    "    123789 does not meet these criteria (no double).\n",
    "\n",
    "How many different passwords within the range given in your puzzle input meet these criteria?\n",
    "\n",
    "Your puzzle input is 124075-580769."
   ]
  },
  {
   "cell_type": "code",
   "execution_count": 21,
   "metadata": {},
   "outputs": [],
   "source": [
    "def validate(x):\n",
    "    '''Return whether a six-digit number has only ascending and doubled digits'''\n",
    "    ascending = True\n",
    "    double = False\n",
    "    digits=[int(y) for y in str(x)]\n",
    "    for n in range(0,5):\n",
    "        if digits[n] > digits[n+1]:\n",
    "            ascending = False\n",
    "            break\n",
    "        if digits[n] == digits[n+1]:\n",
    "            double = True\n",
    "    return ascending & double "
   ]
  },
  {
   "cell_type": "code",
   "execution_count": 22,
   "metadata": {},
   "outputs": [
    {
     "name": "stdout",
     "output_type": "stream",
     "text": [
      "2150 454545 456695 456695\n"
     ]
    }
   ],
   "source": [
    "ttable = [validate(n) for n in range(124075,580770)]\n",
    "t = ttable.count(True)\n",
    "f = ttable.count(False)\n",
    "print(t, f, t+f, len(ttable))"
   ]
  },
  {
   "cell_type": "markdown",
   "metadata": {},
   "source": [
    "--- Part Two ---\n",
    "\n",
    "An Elf just remembered one more important detail: the two adjacent matching digits are not part of a larger group of matching digits.\n",
    "\n",
    "Given this additional criterion, but still ignoring the range rule, the following are now true:\n",
    "\n",
    "    112233 meets these criteria because the digits never decrease and all repeated digits are exactly two digits long.\n",
    "    123444 no longer meets the criteria (the repeated 44 is part of a larger group of 444).\n",
    "    111122 meets the criteria (even though 1 is repeated more than twice, it still contains a double 22).\n",
    "\n",
    "How many different passwords within the range given in your puzzle input meet all of the criteria?\n"
   ]
  },
  {
   "cell_type": "code",
   "execution_count": 41,
   "metadata": {},
   "outputs": [
    {
     "name": "stdout",
     "output_type": "stream",
     "text": [
      "1462 455233 456695 456695\n"
     ]
    }
   ],
   "source": [
    "def validate2(x):\n",
    "    '''Return whether a six-digit number has only ascending and doubled digits'''\n",
    "    ascending = True\n",
    "    double = False\n",
    "    digits=[int(y) for y in str(x)]\n",
    "    # Quick and dirty to find doubles -- fails to meet test 3 (111122)\n",
    "    # if 2 != max([digits.count(n) for n in digits]):\n",
    "        # return False\n",
    "    for n in range(0,5):\n",
    "        if digits[n] > digits[n+1]:\n",
    "            ascending = False\n",
    "            break\n",
    "        if digits[n] == digits[n+1]:\n",
    "            if 2 in [digits.count(x) for x in digits]:\n",
    "                double = True\n",
    "    return ascending & double \n",
    "\n",
    "ttable = [validate2(n) for n in range(124075,580770)]\n",
    "t = ttable.count(True)\n",
    "f = ttable.count(False)\n",
    "print(t, f, t+f, len(ttable))"
   ]
  },
  {
   "cell_type": "code",
   "execution_count": null,
   "metadata": {},
   "outputs": [],
   "source": []
  }
 ],
 "metadata": {
  "kernelspec": {
   "display_name": "Python 3",
   "language": "python",
   "name": "python3"
  },
  "language_info": {
   "codemirror_mode": {
    "name": "ipython",
    "version": 3
   },
   "file_extension": ".py",
   "mimetype": "text/x-python",
   "name": "python",
   "nbconvert_exporter": "python",
   "pygments_lexer": "ipython3",
   "version": "3.7.5"
  }
 },
 "nbformat": 4,
 "nbformat_minor": 2
}
