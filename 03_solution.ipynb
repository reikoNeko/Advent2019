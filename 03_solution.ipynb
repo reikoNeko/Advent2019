{
 "cells": [
  {
   "cell_type": "markdown",
   "metadata": {},
   "source": [
    "--- Day 3: Crossed Wires ---\n",
    "\n",
    "The gravity assist was successful, and you're well on your way to the Venus refuelling station. During the rush back on Earth, the fuel management system wasn't completely installed, so that's next on the priority list.\n",
    "\n",
    "Opening the front panel reveals a jumble of wires. Specifically, two wires are connected to a central port and extend outward on a grid. You trace the path each wire takes as it leaves the central port, one wire per line of text (your puzzle input).\n",
    "\n",
    "The wires twist and turn, but the two wires occasionally cross paths. To fix the circuit, you need to find the intersection point closest to the central port. Because the wires are on a grid, use the Manhattan distance for this measurement. While the wires do technically cross right at the central port where they both start, this point does not count, nor does a wire count as crossing with itself.\n",
    "\n",
    "For example, if the first wire's path is R8,U5,L5,D3, then starting from the central port (o), it goes right 8, up 5, left 5, and finally down 3:\n",
    "\n",
    "    ...........\n",
    "    ...........\n",
    "    ...........\n",
    "    ....+----+.\n",
    "    ....|....|.\n",
    "    ....|....|.\n",
    "    ....|....|.\n",
    "    .........|.\n",
    "    .o-------+.\n",
    "    ...........\n",
    "\n",
    "Then, if the second wire's path is U7,R6,D4,L4, it goes up 7, right 6, down 4, and left 4:\n",
    "\n",
    "    ...........\n",
    "    .+-----+...\n",
    "    .|.....|...\n",
    "    .|..+--X-+.\n",
    "    .|..|..|.|.\n",
    "    .|.-X--+.|.\n",
    "    .|..|....|.\n",
    "    .|.......|.\n",
    "    .o-------+.\n",
    "    ...........\n",
    "\n",
    "These wires cross at two locations (marked X), but the lower-left one is closer to the central port: its distance is 3 + 3 = 6.\n",
    "\n",
    "Here are a few more examples:\n",
    "\n",
    "    R75,D30,R83,U83,L12,D49,R71,U7,L72\n",
    "    U62,R66,U55,R34,D71,R55,D58,R83 = distance 159\n",
    "    R98,U47,R26,D63,R33,U87,L62,D20,R33,U53,R51\n",
    "    U98,R91,D20,R16,D67,R40,U7,R15,U6,R7 = distance 135\n",
    "\n",
    "What is the Manhattan distance from the central port to the closest intersection?\n"
   ]
  },
  {
   "cell_type": "code",
   "execution_count": 1,
   "metadata": {},
   "outputs": [],
   "source": [
    "sample_0 = '''R8,U5,L5,D3\n",
    "    U7,R6,D4,L4'''\n",
    "\n",
    "sample_1 = '''R75,D30,R83,U83,L12,D49,R71,U7,L72\n",
    "    U62,R66,U55,R34,D71,R55,D58,R83'''\n",
    "\n",
    "sample_2 = '''R98,U47,R26,D63,R33,U87,L62,D20,R33,U53,R51\n",
    "    U98,R91,D20,R16,D67,R40,U7,R15,U6,R7'''\n",
    "\n",
    "input_03 = [line.strip() for line in open('03_input.txt')]"
   ]
  },
  {
   "cell_type": "code",
   "execution_count": 2,
   "metadata": {},
   "outputs": [],
   "source": [
    "def wander(path):\n",
    "    '''Fill in the steps taken on a journey and return a set of visited coordinates.'''\n",
    "    # Rather than tuples, use Walt Mankowski's method of using complex numbers in the set\n",
    "    # Real numbers are the x axis, imaginary are the y\n",
    "    # See https://python-reference.readthedocs.io/en/latest/docs/complex/ for help\n",
    "\n",
    "    direction={\n",
    "        'R': +1,\n",
    "        'L': -1,\n",
    "        'U': +1j,\n",
    "        'D': -1j\n",
    "    }\n",
    "    journey = set()\n",
    "    pos = 0+0j\n",
    "    for vector in path:\n",
    "        facing,dist = vector[0],int(vector[1:])\n",
    "        #print(facing,dist)\n",
    "        for n in range(0,dist):\n",
    "            journey.add(pos + n*direction[facing])\n",
    "        pos += dist*direction[facing]\n",
    "    return journey"
   ]
  },
  {
   "cell_type": "code",
   "execution_count": 3,
   "metadata": {},
   "outputs": [
    {
     "name": "stdout",
     "output_type": "stream",
     "text": [
      "['U98', 'R91', 'D20', 'R16', 'D67', 'R40', 'U7', 'R15', 'U6', 'R7']\n"
     ]
    }
   ],
   "source": [
    "path = [p.split(',') for p in [l.strip() for l in sample_2.split('\\n')] ]\n",
    "print(path[1])"
   ]
  },
  {
   "cell_type": "code",
   "execution_count": 4,
   "metadata": {},
   "outputs": [
    {
     "name": "stdout",
     "output_type": "stream",
     "text": [
      "{0j, (444-251j), (-307-1615j), (-6396-3404j), (-799-1493j), (634-93j), (-1272-1165j), (917-311j), (-996-2873j), (243-1600j), (-6865-5865j), (1124+481j), (-761-1493j), (-2787-2502j), (-1664-1105j), (-6529-5243j), (1280-163j), (-7892-6193j), (-7107-6518j), (-266-858j), (-307-1866j), (-141-982j), (-7281-6171j), (913+42j), (341-1600j), (1128+421j), (-1664-1165j), (-198-858j), (370-1600j), (-7726-6171j), (-2875-1857j), (-53-982j), (-6218-3404j), (-6759-5421j), (-753-1372j), (844-636j), (-6551-6761j), (-8622-6875j), (887+281j), (-6865-6114j), (266+0j), (-573-2792j), (-266-527j), (917-636j), (-266-389j), (-428-1166j), (634-112j), (151-1037j), (-6419-2857j), (-6885-6518j), (-198-527j), (266-251j), (-307-1679j), (-6759-5243j), (-6511-6072j), (-198-389j), (423-1552j), (-799-1419j), (-1-2218j), (-640+0j), (913+0j), (-8622-7018j), (-428-1493j), (-2522-2096j), (150-982j), (887+421j), (-761-1419j), (-6396-2932j), (444+0j), (-6268-3224j), (423-1337j), (-1272-1105j), (151-1149j), (844-311j), (-6396-3443j), (-7214-6518j), (1128+281j), (181-1600j), (-2643-2406j)}\n",
      "[0.0, 695.0, 1922.0, 9800.0, 2292.0, 727.0, 2437.0, 1228.0, 3869.0, 1843.0, 12730.0, 1605.0, 2254.0, 5289.0, 2769.0, 11772.0, 1443.0, 14085.0, 13625.0, 1124.0, 2173.0, 1123.0, 13452.0, 955.0, 1941.0, 1549.0, 2829.0, 1056.0, 1970.0, 13897.0, 4732.0, 1035.0, 9622.0, 12180.0, 2125.0, 1480.0, 13312.0, 15497.0, 1168.0, 12979.0, 266.0, 3365.0, 793.0, 1553.0, 655.0, 1594.0, 746.0, 1188.0, 9276.0, 13403.0, 725.0, 517.0, 1986.0, 12002.0, 12583.0, 587.0, 1975.0, 2218.0, 2219.0, 640.0, 913.0, 15640.0, 1921.0, 4618.0, 1132.0, 1308.0, 2180.0, 9328.0, 444.0, 9492.0, 1760.0, 2377.0, 1300.0, 1155.0, 9839.0, 13732.0, 1409.0, 1781.0, 5049.0]\n",
      "266.0\n"
     ]
    }
   ],
   "source": [
    "path = [p.split(',') for p in input_03]\n",
    "\n",
    "j1 = wander(path[0])\n",
    "j2 = wander(path[1])\n",
    "print(j1.intersection(j2))\n",
    "blocks = [abs(x.real) + abs(x.imag) for x in j1.intersection(j2)  ]\n",
    "print(blocks)\n",
    "print(min( [x for x in blocks if x > 0]) )"
   ]
  },
  {
   "cell_type": "markdown",
   "metadata": {},
   "source": [
    "--- Part Two ---\n",
    "\n",
    "It turns out that this circuit is very timing-sensitive; you actually need to minimize the signal delay.\n",
    "\n",
    "To do this, calculate the number of steps each wire takes to reach each intersection; choose the intersection where the sum of both wires' steps is lowest. If a wire visits a position on the grid multiple times, use the steps value from the first time it visits that position when calculating the total value of a specific intersection.\n",
    "\n",
    "The number of steps a wire takes is the total number of grid squares the wire has entered to get to that location, including the intersection being considered. Again consider the example from above:\n",
    "\n",
    "    ...........\n",
    "    .+-----+...\n",
    "    .|.....|...\n",
    "    .|..+--X-+.\n",
    "    .|..|..|.|.\n",
    "    .|.-X--+.|.\n",
    "    .|..|....|.\n",
    "    .|.......|.\n",
    "    .o-------+.\n",
    "    ...........\n",
    "\n",
    "In the above example, the intersection closest to the central port is reached after 8+5+5+2 = 20 steps by the first wire and 7+6+4+3 = 20 steps by the second wire for a total of 20+20 = 40 steps.\n",
    "\n",
    "However, the top-right intersection is better: the first wire takes only 8+5+2 = 15 and the second wire takes only 7+6+2 = 15, a total of 15+15 = 30 steps.\n",
    "\n",
    "Here are the best steps for the extra examples from above:\n",
    "\n",
    "    R75,D30,R83,U83,L12,D49,R71,U7,L72\n",
    "    U62,R66,U55,R34,D71,R55,D58,R83 = 610 steps\n",
    "    R98,U47,R26,D63,R33,U87,L62,D20,R33,U53,R51\n",
    "    U98,R91,D20,R16,D67,R40,U7,R15,U6,R7 = 410 steps\n",
    "\n",
    "What is the fewest combined steps the wires must take to reach an intersection?\n"
   ]
  },
  {
   "cell_type": "code",
   "execution_count": 5,
   "metadata": {},
   "outputs": [],
   "source": [
    "from collections import defaultdict\n",
    "\n",
    "def wander_with_breadcrumbs(path):\n",
    "    '''Fill in the steps taken on a journey and return a set of visited coordinates with the order visited.'''\n",
    "    # So now we have to use a dict that uses the position as a key, and then the number of steps it took\n",
    "    # to reach that point. \n",
    "    # TODO: make each dict value a set of integers, just in case a path crosses itself, but not just yet.\n",
    "    \n",
    "    direction={\n",
    "        'R': +1,\n",
    "        'L': -1,\n",
    "        'U': +1j,\n",
    "        'D': -1j\n",
    "    }\n",
    "    journey = defaultdict(list)\n",
    "    \n",
    "    pos = 0+0j\n",
    "    steps = 0\n",
    "    for vector in path:\n",
    "        facing,dist = vector[0],int(vector[1:])\n",
    "        #print(facing,dist)\n",
    "        for n in range(0,dist):\n",
    "            journey[pos + n*direction[facing]].append(steps)\n",
    "            steps +=1\n",
    "        pos += dist*direction[facing]\n",
    "    return journey"
   ]
  },
  {
   "cell_type": "code",
   "execution_count": 6,
   "metadata": {},
   "outputs": [
    {
     "name": "stdout",
     "output_type": "stream",
     "text": [
      "19242\n"
     ]
    }
   ],
   "source": [
    "#path = [p.split(',') for p in [l.strip() for l in sample_1.split('\\n')] ]\n",
    "path = [p.split(',') for p in input_03]\n",
    "\n",
    "j1 = wander_with_breadcrumbs(path[0])\n",
    "j2 = wander_with_breadcrumbs(path[1])\n",
    "\n",
    "#print(j1)\n",
    "crossings = list( set(j1.keys()).intersection( set(j2.keys())) )\n",
    "#print([(x,j1[x]) for x in crossings])\n",
    "#print([(x,j2[x]) for x in crossings])\n",
    "\n",
    "def blocks(x):\n",
    "    return abs(x.real) + abs(x.imag)\n",
    "\n",
    "\n",
    "with_dist = [(x, blocks(x), min(j1[x]) + min(j2[x])) for x in crossings]\n",
    "#print(blocks)\n",
    "#print(min( [x for x in blocks if x > 0]) )\n",
    "#print(with_dist)\n",
    "print(min( [z for x,y,z in with_dist if z>0]) )"
   ]
  },
  {
   "cell_type": "code",
   "execution_count": null,
   "metadata": {},
   "outputs": [],
   "source": []
  }
 ],
 "metadata": {
  "kernelspec": {
   "display_name": "Python 3",
   "language": "python",
   "name": "python3"
  },
  "language_info": {
   "codemirror_mode": {
    "name": "ipython",
    "version": 3
   },
   "file_extension": ".py",
   "mimetype": "text/x-python",
   "name": "python",
   "nbconvert_exporter": "python",
   "pygments_lexer": "ipython3",
   "version": "3.7.5"
  }
 },
 "nbformat": 4,
 "nbformat_minor": 2
}
