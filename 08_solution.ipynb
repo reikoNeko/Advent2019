{
 "cells": [
  {
   "cell_type": "markdown",
   "metadata": {},
   "source": [
    "--- Day 8: Space Image Format ---\n",
    "\n",
    "The Elves' spirits are lifted when they realize you have an opportunity to reboot one of their Mars rovers, and so they are curious if you would spend a brief sojourn on Mars. You land your ship near the rover.\n",
    "\n",
    "When you reach the rover, you discover that it's already in the process of rebooting! It's just waiting for someone to enter a BIOS password. The Elf responsible for the rover takes a picture of the password (your puzzle input) and sends it to you via the Digital Sending Network.\n",
    "\n",
    "Unfortunately, images sent via the Digital Sending Network aren't encoded with any normal encoding; instead, they're encoded in a special Space Image Format. None of the Elves seem to remember why this is the case. They send you the instructions to decode it.\n",
    "\n",
    "Images are sent as a series of digits that each represent the color of a single pixel. The digits fill each row of the image left-to-right, then move downward to the next row, filling rows top-to-bottom until every pixel of the image is filled.\n",
    "\n",
    "Each image actually consists of a series of identically-sized layers that are filled in this way. So, the first digit corresponds to the top-left pixel of the first layer, the second digit corresponds to the pixel to the right of that on the same layer, and so on until the last digit, which corresponds to the bottom-right pixel of the last layer.\n",
    "\n",
    "For example, given an image 3 pixels wide and 2 pixels tall, the image data 123456789012 corresponds to the following image layers:\n",
    "\n",
    "Layer 1: 123\n",
    "         456\n",
    "\n",
    "Layer 2: 789\n",
    "         012\n",
    "\n",
    "The image you received is 25 pixels wide and 6 pixels tall.\n",
    "\n",
    "To make sure the image wasn't corrupted during transmission, the Elves would like you to find the layer that contains the fewest 0 digits. On that layer, what is the number of 1 digits multiplied by the number of 2 digits?\n"
   ]
  },
  {
   "cell_type": "code",
   "execution_count": 1,
   "metadata": {},
   "outputs": [],
   "source": [
    "import numpy as np\n",
    "\n",
    "def stream2layers(w,h,stream):\n",
    "    '''Given a series of digits, convert into a 3D list of lists of lists'''\n",
    "    digits = [int(x) for x in str(stream)]\n",
    "    layers = np.reshape(digits, (-1,h,w), 'A')\n",
    "    return layers.tolist()\n",
    "\n",
    "sample='123456789012'\n",
    "#print(stream2layers(3,2,sample))\n",
    "\n",
    "probedata = open('/home/rachel/Coding/AdventOfCode/2019/08_input.txt').read().strip()\n",
    "#print(probedata)[0:30]\n",
    "\n",
    "width=25\n",
    "height=6\n",
    "probeimage = stream2layers(25,6,probedata)"
   ]
  },
  {
   "cell_type": "code",
   "execution_count": 2,
   "metadata": {},
   "outputs": [
    {
     "name": "stdout",
     "output_type": "stream",
     "text": [
      "{2: 122, 1: 22, 0: 6} 2684\n"
     ]
    }
   ],
   "source": [
    "from collections import Counter\n",
    "counts = {}\n",
    "layers = len(probeimage)\n",
    "for layer in range(0, layers):\n",
    "    counts[layer] = Counter([pixel for row in probeimage[layer] for pixel in row])\n",
    "    #print(counts[layer])\n",
    "least_zero = min(counts[x][0] for x in range(0,layers))\n",
    "found = [dict(counts[x]) for x in range(0,layers) if least_zero == counts[x][0] ][0]\n",
    "print( found, found[2] * found[1] )"
   ]
  },
  {
   "cell_type": "markdown",
   "metadata": {},
   "source": [
    "--- Part Two ---\n",
    "\n",
    "Now you're ready to decode the image. The image is rendered by stacking the layers and aligning the pixels with the same positions in each layer. The digits indicate the color of the corresponding pixel: 0 is black, 1 is white, and 2 is transparent.\n",
    "\n",
    "The layers are rendered with the first layer in front and the last layer in back. So, if a given position has a transparent pixel in the first and second layers, a black pixel in the third layer, and a white pixel in the fourth layer, the final image would have a black pixel at that position.\n",
    "\n",
    "For example, given an image 2 pixels wide and 2 pixels tall, the image data 0222112222120000 corresponds to the following image layers:\n",
    "\n",
    "    Layer 1: 02\n",
    "             22\n",
    "\n",
    "    Layer 2: 11\n",
    "             22\n",
    "\n",
    "    Layer 3: 22\n",
    "             12\n",
    "\n",
    "    Layer 4: 00\n",
    "             00\n",
    "\n",
    "Then, the full image can be found by determining the top visible pixel in each position:\n",
    "\n",
    "    The top-left pixel is black because the top layer is 0.\n",
    "    The top-right pixel is white because the top layer is 2 (transparent), but the second layer is 1.\n",
    "    The bottom-left pixel is white because the top two layers are 2, but the third layer is 1.\n",
    "    The bottom-right pixel is black because the only visible pixel in that position is 0 (from layer 4).\n",
    "\n",
    "So, the final image looks like this:\n",
    "\n",
    "    01\n",
    "    10\n",
    "\n",
    "What message is produced after decoding your image?\n"
   ]
  },
  {
   "cell_type": "code",
   "execution_count": 5,
   "metadata": {},
   "outputs": [
    {
     "name": "stdout",
     "output_type": "stream",
     "text": [
      "[[1, 0, 0, 0, 1, 0, 1, 1, 0, 0, 1, 1, 1, 0, 0, 1, 0, 0, 0, 1, 1, 1, 1, 1, 0], [1, 0, 0, 0, 1, 1, 0, 0, 1, 0, 1, 0, 0, 1, 0, 1, 0, 0, 0, 1, 0, 0, 0, 1, 0], [0, 1, 0, 1, 0, 1, 0, 0, 0, 0, 1, 0, 0, 1, 0, 0, 1, 0, 1, 0, 0, 0, 1, 0, 0], [0, 0, 1, 0, 0, 1, 0, 1, 1, 0, 1, 1, 1, 0, 0, 0, 0, 1, 0, 0, 0, 1, 0, 0, 0], [0, 0, 1, 0, 0, 1, 0, 0, 1, 0, 1, 0, 1, 0, 0, 0, 0, 1, 0, 0, 1, 0, 0, 0, 0], [0, 0, 1, 0, 0, 0, 1, 1, 1, 0, 1, 0, 0, 1, 0, 0, 0, 1, 0, 0, 1, 1, 1, 1, 0]]\n"
     ]
    },
    {
     "data": {
      "text/plain": [
       "['[1       1   1 1     1 1 1     1       1 1 1 1 1  ]',\n",
       " '[1       1 1     1   1     1   1       1       1  ]',\n",
       " '[  1   1   1         1     1     1   1       1    ]',\n",
       " '[    1     1   1 1   1 1 1         1       1      ]',\n",
       " '[    1     1     1   1   1         1     1        ]',\n",
       " '[    1       1 1 1   1     1       1     1 1 1 1  ]']"
      ]
     },
     "execution_count": 5,
     "metadata": {},
     "output_type": "execute_result"
    }
   ],
   "source": [
    "#print(layers,width,height)\n",
    "#print( probeimage[0])\n",
    "finalimage=probeimage[0]\n",
    "for z in range(1,layers):\n",
    "    for y in range(0,height):\n",
    "        for x in range(0,width):\n",
    "            if probeimage[z][y][x] != 2 and 2 == finalimage[y][x] :\n",
    "                finalimage[y][x] = probeimage[z][y][x]\n",
    "print(finalimage)\n",
    "[str(x).replace('0',' ').replace(',','') for x in finalimage]\n"
   ]
  },
  {
   "cell_type": "code",
   "execution_count": 4,
   "metadata": {},
   "outputs": [
    {
     "data": {
      "image/png": "[encoded data removed]",
      "text/plain": [
       "<PIL.Image.Image image mode=1 size=25x6 at 0x7FE767A6A750>"
      ]
     },
     "execution_count": 4,
     "metadata": {},
     "output_type": "execute_result"
    }
   ],
   "source": [
    "# This would have been nice if it worked the way I thought\n",
    "\n",
    "from PIL import Image\n",
    "Image.fromarray(np.array(finalimage),mode='1')"
   ]
  }
 ],
 "metadata": {
  "kernelspec": {
   "display_name": "Python 3",
   "language": "python",
   "name": "python3"
  },
  "language_info": {
   "codemirror_mode": {
    "name": "ipython",
    "version": 3
   },
   "file_extension": ".py",
   "mimetype": "text/x-python",
   "name": "python",
   "nbconvert_exporter": "python",
   "pygments_lexer": "ipython3",
   "version": "3.7.5"
  }
 },
 "nbformat": 4,
 "nbformat_minor": 2
}
